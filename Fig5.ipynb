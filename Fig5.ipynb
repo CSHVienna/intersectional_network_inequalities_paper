{
 "cells": [
  {
   "cell_type": "code",
   "execution_count": 1,
   "id": "80607b2f-2e59-41f3-9a7c-93e292dbc5b1",
   "metadata": {},
   "outputs": [],
   "source": [
    "import matplotlib.pyplot as plt\n",
    "import matplotlib\n",
    "from scipy import stats\n",
    "import seaborn as sns\n",
    "import itertools\n",
    "\n",
    "from multisoc.infer import data_loader\n",
    "\n",
    "from inequality_analysis_AddHealth import *"
   ]
  },
  {
   "cell_type": "markdown",
   "id": "354ec9a5-2973-4c72-80cd-7bde642a1281",
   "metadata": {},
   "source": [
    "## Load inferred preferences (computed in https://github.com/CSHVienna/multidimensional_social_interactions_paper)"
   ]
  },
  {
   "cell_type": "code",
   "execution_count": 2,
   "id": "41cc57e1-6fc0-46d4-82e8-c86e00f1d2ab",
   "metadata": {},
   "outputs": [],
   "source": [
    "dimensions_list = ['grade','race','sex']\n",
    "num_dimensions = len(dimensions_list)\n",
    "sex_list = [\"Female\",\"Male\"]\n",
    "race_list = [\"White\",\"Black\",\"Hispanic\",\"Asian\",\"Mixed/other\"]\n",
    "grade_list = [\"7th\",\"8th\",\"9th\",\"10th\",\"11th\",\"12th\"]\n",
    "all_attributes_dict = {\n",
    "    \"grade\":grade_list,\n",
    "    \"race\":race_list,\n",
    "    \"sex\":sex_list\n",
    "}\n",
    "\n",
    "multidim_groups = list(itertools.product(*[all_attributes_dict[d] for d in dimensions_list]))\n",
    "\n",
    "results_df = pd.read_csv(\"preference_results_v4_merged.csv\")"
   ]
  },
  {
   "cell_type": "markdown",
   "id": "9a798cfe-ee21-456b-bea2-d9970e8b73be",
   "metadata": {},
   "source": [
    "## Compute empirical degree inequalities and predicted by the model"
   ]
  },
  {
   "cell_type": "code",
   "execution_count": 4,
   "id": "1479b3c7-def8-4ea4-a677-c0b38e99604d",
   "metadata": {
    "scrolled": true
   },
   "outputs": [
    {
     "name": "stderr",
     "output_type": "stream",
     "text": [
      "C:\\Users\\csh_samu\\Documents\\CSH\\CSH\\projects\\multiple_attributes\\python_GIT\\intersectional_network_inequalities_paper\\multisoc\\infer\\data_loader.py:26: FutureWarning: The behavior of Series.replace (and DataFrame.replace) with CategoricalDtype is deprecated. In a future version, replace will only be used for cases that preserve the categories. To change the categories, use ser.cat.rename_categories instead.\n",
      "  nodes_list.replace({'sex': sex,'race':race,'grade':grade},inplace=True)\n",
      "C:\\Users\\csh_samu\\Documents\\CSH\\CSH\\projects\\multiple_attributes\\python_GIT\\intersectional_network_inequalities_paper\\multisoc\\infer\\data_loader.py:26: FutureWarning: The behavior of Series.replace (and DataFrame.replace) with CategoricalDtype is deprecated. In a future version, replace will only be used for cases that preserve the categories. To change the categories, use ser.cat.rename_categories instead.\n",
      "  nodes_list.replace({'sex': sex,'race':race,'grade':grade},inplace=True)\n",
      "C:\\Users\\csh_samu\\Documents\\CSH\\CSH\\projects\\multiple_attributes\\python_GIT\\intersectional_network_inequalities_paper\\multisoc\\infer\\data_loader.py:26: FutureWarning: The behavior of Series.replace (and DataFrame.replace) with CategoricalDtype is deprecated. In a future version, replace will only be used for cases that preserve the categories. To change the categories, use ser.cat.rename_categories instead.\n",
      "  nodes_list.replace({'sex': sex,'race':race,'grade':grade},inplace=True)\n",
      "C:\\Users\\csh_samu\\Documents\\CSH\\CSH\\projects\\multiple_attributes\\python_GIT\\intersectional_network_inequalities_paper\\multisoc\\infer\\data_loader.py:26: FutureWarning: The behavior of Series.replace (and DataFrame.replace) with CategoricalDtype is deprecated. In a future version, replace will only be used for cases that preserve the categories. To change the categories, use ser.cat.rename_categories instead.\n",
      "  nodes_list.replace({'sex': sex,'race':race,'grade':grade},inplace=True)\n",
      "C:\\Users\\csh_samu\\Documents\\CSH\\CSH\\projects\\multiple_attributes\\python_GIT\\intersectional_network_inequalities_paper\\multisoc\\infer\\data_loader.py:26: FutureWarning: The behavior of Series.replace (and DataFrame.replace) with CategoricalDtype is deprecated. In a future version, replace will only be used for cases that preserve the categories. To change the categories, use ser.cat.rename_categories instead.\n",
      "  nodes_list.replace({'sex': sex,'race':race,'grade':grade},inplace=True)\n",
      "C:\\Users\\csh_samu\\Documents\\CSH\\CSH\\projects\\multiple_attributes\\python_GIT\\intersectional_network_inequalities_paper\\multisoc\\infer\\data_loader.py:26: FutureWarning: The behavior of Series.replace (and DataFrame.replace) with CategoricalDtype is deprecated. In a future version, replace will only be used for cases that preserve the categories. To change the categories, use ser.cat.rename_categories instead.\n",
      "  nodes_list.replace({'sex': sex,'race':race,'grade':grade},inplace=True)\n"
     ]
    },
    {
     "name": "stdout",
     "output_type": "stream",
     "text": [
      "Community #2: one school\n",
      "There is only one sex category or only one race category: we skip it\n",
      "Community #3: one school\n",
      "There are less than 100 students in this school: we skip it\n",
      "Community #4: 2 schools\n",
      "There is only one sex category or only one race category: we skip it\n",
      "Community #5: one school\n",
      "There is only one sex category or only one race category: we skip it\n",
      "Community #6: one school\n",
      "There is only one sex category or only one race category: we skip it\n",
      "Community #7: 2 schools\n"
     ]
    },
    {
     "name": "stderr",
     "output_type": "stream",
     "text": [
      "C:\\Users\\csh_samu\\Documents\\CSH\\CSH\\projects\\multiple_attributes\\python_GIT\\intersectional_network_inequalities_paper\\multisoc\\infer\\data_loader.py:26: FutureWarning: The behavior of Series.replace (and DataFrame.replace) with CategoricalDtype is deprecated. In a future version, replace will only be used for cases that preserve the categories. To change the categories, use ser.cat.rename_categories instead.\n",
      "  nodes_list.replace({'sex': sex,'race':race,'grade':grade},inplace=True)\n"
     ]
    },
    {
     "name": "stdout",
     "output_type": "stream",
     "text": [
      "Community #8: one school\n"
     ]
    },
    {
     "name": "stderr",
     "output_type": "stream",
     "text": [
      "C:\\Users\\csh_samu\\Documents\\CSH\\CSH\\projects\\multiple_attributes\\python_GIT\\intersectional_network_inequalities_paper\\multisoc\\infer\\data_loader.py:26: FutureWarning: The behavior of Series.replace (and DataFrame.replace) with CategoricalDtype is deprecated. In a future version, replace will only be used for cases that preserve the categories. To change the categories, use ser.cat.rename_categories instead.\n",
      "  nodes_list.replace({'sex': sex,'race':race,'grade':grade},inplace=True)\n"
     ]
    },
    {
     "name": "stdout",
     "output_type": "stream",
     "text": [
      "Community #9: one school\n"
     ]
    },
    {
     "name": "stderr",
     "output_type": "stream",
     "text": [
      "C:\\Users\\csh_samu\\Documents\\CSH\\CSH\\projects\\multiple_attributes\\python_GIT\\intersectional_network_inequalities_paper\\multisoc\\infer\\data_loader.py:26: FutureWarning: The behavior of Series.replace (and DataFrame.replace) with CategoricalDtype is deprecated. In a future version, replace will only be used for cases that preserve the categories. To change the categories, use ser.cat.rename_categories instead.\n",
      "  nodes_list.replace({'sex': sex,'race':race,'grade':grade},inplace=True)\n"
     ]
    },
    {
     "name": "stdout",
     "output_type": "stream",
     "text": [
      "Community #10: one school\n"
     ]
    },
    {
     "name": "stderr",
     "output_type": "stream",
     "text": [
      "C:\\Users\\csh_samu\\Documents\\CSH\\CSH\\projects\\multiple_attributes\\python_GIT\\intersectional_network_inequalities_paper\\multisoc\\infer\\data_loader.py:26: FutureWarning: The behavior of Series.replace (and DataFrame.replace) with CategoricalDtype is deprecated. In a future version, replace will only be used for cases that preserve the categories. To change the categories, use ser.cat.rename_categories instead.\n",
      "  nodes_list.replace({'sex': sex,'race':race,'grade':grade},inplace=True)\n"
     ]
    },
    {
     "name": "stdout",
     "output_type": "stream",
     "text": [
      "Community #11: 2 schools\n"
     ]
    },
    {
     "name": "stderr",
     "output_type": "stream",
     "text": [
      "C:\\Users\\csh_samu\\Documents\\CSH\\CSH\\projects\\multiple_attributes\\python_GIT\\intersectional_network_inequalities_paper\\multisoc\\infer\\data_loader.py:26: FutureWarning: The behavior of Series.replace (and DataFrame.replace) with CategoricalDtype is deprecated. In a future version, replace will only be used for cases that preserve the categories. To change the categories, use ser.cat.rename_categories instead.\n",
      "  nodes_list.replace({'sex': sex,'race':race,'grade':grade},inplace=True)\n"
     ]
    },
    {
     "name": "stdout",
     "output_type": "stream",
     "text": [
      "Community #12: 1 schools\n"
     ]
    },
    {
     "name": "stderr",
     "output_type": "stream",
     "text": [
      "C:\\Users\\csh_samu\\Documents\\CSH\\CSH\\projects\\multiple_attributes\\python_GIT\\intersectional_network_inequalities_paper\\multisoc\\infer\\data_loader.py:26: FutureWarning: The behavior of Series.replace (and DataFrame.replace) with CategoricalDtype is deprecated. In a future version, replace will only be used for cases that preserve the categories. To change the categories, use ser.cat.rename_categories instead.\n",
      "  nodes_list.replace({'sex': sex,'race':race,'grade':grade},inplace=True)\n"
     ]
    },
    {
     "name": "stdout",
     "output_type": "stream",
     "text": [
      "Community #13: 2 schools\n"
     ]
    },
    {
     "name": "stderr",
     "output_type": "stream",
     "text": [
      "C:\\Users\\csh_samu\\Documents\\CSH\\CSH\\projects\\multiple_attributes\\python_GIT\\intersectional_network_inequalities_paper\\multisoc\\infer\\data_loader.py:26: FutureWarning: The behavior of Series.replace (and DataFrame.replace) with CategoricalDtype is deprecated. In a future version, replace will only be used for cases that preserve the categories. To change the categories, use ser.cat.rename_categories instead.\n",
      "  nodes_list.replace({'sex': sex,'race':race,'grade':grade},inplace=True)\n"
     ]
    },
    {
     "name": "stdout",
     "output_type": "stream",
     "text": [
      "Community #14: 2 schools\n"
     ]
    },
    {
     "name": "stderr",
     "output_type": "stream",
     "text": [
      "C:\\Users\\csh_samu\\Documents\\CSH\\CSH\\projects\\multiple_attributes\\python_GIT\\intersectional_network_inequalities_paper\\multisoc\\infer\\data_loader.py:26: FutureWarning: The behavior of Series.replace (and DataFrame.replace) with CategoricalDtype is deprecated. In a future version, replace will only be used for cases that preserve the categories. To change the categories, use ser.cat.rename_categories instead.\n",
      "  nodes_list.replace({'sex': sex,'race':race,'grade':grade},inplace=True)\n"
     ]
    },
    {
     "name": "stdout",
     "output_type": "stream",
     "text": [
      "Community #15: 2 schools\n"
     ]
    },
    {
     "name": "stderr",
     "output_type": "stream",
     "text": [
      "C:\\Users\\csh_samu\\Documents\\CSH\\CSH\\projects\\multiple_attributes\\python_GIT\\intersectional_network_inequalities_paper\\multisoc\\infer\\data_loader.py:26: FutureWarning: The behavior of Series.replace (and DataFrame.replace) with CategoricalDtype is deprecated. In a future version, replace will only be used for cases that preserve the categories. To change the categories, use ser.cat.rename_categories instead.\n",
      "  nodes_list.replace({'sex': sex,'race':race,'grade':grade},inplace=True)\n"
     ]
    },
    {
     "name": "stdout",
     "output_type": "stream",
     "text": [
      "Community #16: 2 schools\n"
     ]
    },
    {
     "name": "stderr",
     "output_type": "stream",
     "text": [
      "C:\\Users\\csh_samu\\Documents\\CSH\\CSH\\projects\\multiple_attributes\\python_GIT\\intersectional_network_inequalities_paper\\multisoc\\infer\\data_loader.py:26: FutureWarning: The behavior of Series.replace (and DataFrame.replace) with CategoricalDtype is deprecated. In a future version, replace will only be used for cases that preserve the categories. To change the categories, use ser.cat.rename_categories instead.\n",
      "  nodes_list.replace({'sex': sex,'race':race,'grade':grade},inplace=True)\n"
     ]
    },
    {
     "name": "stdout",
     "output_type": "stream",
     "text": [
      "Community #17: 2 schools\n"
     ]
    },
    {
     "name": "stderr",
     "output_type": "stream",
     "text": [
      "C:\\Users\\csh_samu\\Documents\\CSH\\CSH\\projects\\multiple_attributes\\python_GIT\\intersectional_network_inequalities_paper\\multisoc\\infer\\data_loader.py:26: FutureWarning: The behavior of Series.replace (and DataFrame.replace) with CategoricalDtype is deprecated. In a future version, replace will only be used for cases that preserve the categories. To change the categories, use ser.cat.rename_categories instead.\n",
      "  nodes_list.replace({'sex': sex,'race':race,'grade':grade},inplace=True)\n"
     ]
    },
    {
     "name": "stdout",
     "output_type": "stream",
     "text": [
      "Community #18: one school\n"
     ]
    },
    {
     "name": "stderr",
     "output_type": "stream",
     "text": [
      "C:\\Users\\csh_samu\\Documents\\CSH\\CSH\\projects\\multiple_attributes\\python_GIT\\intersectional_network_inequalities_paper\\multisoc\\infer\\data_loader.py:26: FutureWarning: The behavior of Series.replace (and DataFrame.replace) with CategoricalDtype is deprecated. In a future version, replace will only be used for cases that preserve the categories. To change the categories, use ser.cat.rename_categories instead.\n",
      "  nodes_list.replace({'sex': sex,'race':race,'grade':grade},inplace=True)\n"
     ]
    },
    {
     "name": "stdout",
     "output_type": "stream",
     "text": [
      "Community #19: 2 schools\n"
     ]
    },
    {
     "name": "stderr",
     "output_type": "stream",
     "text": [
      "C:\\Users\\csh_samu\\Documents\\CSH\\CSH\\projects\\multiple_attributes\\python_GIT\\intersectional_network_inequalities_paper\\multisoc\\infer\\data_loader.py:26: FutureWarning: The behavior of Series.replace (and DataFrame.replace) with CategoricalDtype is deprecated. In a future version, replace will only be used for cases that preserve the categories. To change the categories, use ser.cat.rename_categories instead.\n",
      "  nodes_list.replace({'sex': sex,'race':race,'grade':grade},inplace=True)\n"
     ]
    },
    {
     "name": "stdout",
     "output_type": "stream",
     "text": [
      "Community #20: 2 schools\n"
     ]
    },
    {
     "name": "stderr",
     "output_type": "stream",
     "text": [
      "C:\\Users\\csh_samu\\Documents\\CSH\\CSH\\projects\\multiple_attributes\\python_GIT\\intersectional_network_inequalities_paper\\multisoc\\infer\\data_loader.py:26: FutureWarning: The behavior of Series.replace (and DataFrame.replace) with CategoricalDtype is deprecated. In a future version, replace will only be used for cases that preserve the categories. To change the categories, use ser.cat.rename_categories instead.\n",
      "  nodes_list.replace({'sex': sex,'race':race,'grade':grade},inplace=True)\n",
      "C:\\Users\\csh_samu\\Documents\\CSH\\CSH\\projects\\multiple_attributes\\python_GIT\\intersectional_network_inequalities_paper\\multisoc\\infer\\data_loader.py:26: FutureWarning: The behavior of Series.replace (and DataFrame.replace) with CategoricalDtype is deprecated. In a future version, replace will only be used for cases that preserve the categories. To change the categories, use ser.cat.rename_categories instead.\n",
      "  nodes_list.replace({'sex': sex,'race':race,'grade':grade},inplace=True)\n"
     ]
    },
    {
     "name": "stdout",
     "output_type": "stream",
     "text": [
      "Community #21: one school\n",
      "There is only one sex category or only one race category: we skip it\n",
      "Community #22: one school\n"
     ]
    },
    {
     "name": "stderr",
     "output_type": "stream",
     "text": [
      "C:\\Users\\csh_samu\\Documents\\CSH\\CSH\\projects\\multiple_attributes\\python_GIT\\intersectional_network_inequalities_paper\\multisoc\\infer\\data_loader.py:26: FutureWarning: The behavior of Series.replace (and DataFrame.replace) with CategoricalDtype is deprecated. In a future version, replace will only be used for cases that preserve the categories. To change the categories, use ser.cat.rename_categories instead.\n",
      "  nodes_list.replace({'sex': sex,'race':race,'grade':grade},inplace=True)\n"
     ]
    },
    {
     "name": "stdout",
     "output_type": "stream",
     "text": [
      "Community #23: 2 schools\n"
     ]
    },
    {
     "name": "stderr",
     "output_type": "stream",
     "text": [
      "C:\\Users\\csh_samu\\Documents\\CSH\\CSH\\projects\\multiple_attributes\\python_GIT\\intersectional_network_inequalities_paper\\multisoc\\infer\\data_loader.py:26: FutureWarning: The behavior of Series.replace (and DataFrame.replace) with CategoricalDtype is deprecated. In a future version, replace will only be used for cases that preserve the categories. To change the categories, use ser.cat.rename_categories instead.\n",
      "  nodes_list.replace({'sex': sex,'race':race,'grade':grade},inplace=True)\n"
     ]
    },
    {
     "name": "stdout",
     "output_type": "stream",
     "text": [
      "Community #24: 2 schools\n"
     ]
    },
    {
     "name": "stderr",
     "output_type": "stream",
     "text": [
      "C:\\Users\\csh_samu\\Documents\\CSH\\CSH\\projects\\multiple_attributes\\python_GIT\\intersectional_network_inequalities_paper\\multisoc\\infer\\data_loader.py:26: FutureWarning: The behavior of Series.replace (and DataFrame.replace) with CategoricalDtype is deprecated. In a future version, replace will only be used for cases that preserve the categories. To change the categories, use ser.cat.rename_categories instead.\n",
      "  nodes_list.replace({'sex': sex,'race':race,'grade':grade},inplace=True)\n"
     ]
    },
    {
     "name": "stdout",
     "output_type": "stream",
     "text": [
      "Community #25: one school\n"
     ]
    },
    {
     "name": "stderr",
     "output_type": "stream",
     "text": [
      "C:\\Users\\csh_samu\\Documents\\CSH\\CSH\\projects\\multiple_attributes\\python_GIT\\intersectional_network_inequalities_paper\\multisoc\\infer\\data_loader.py:26: FutureWarning: The behavior of Series.replace (and DataFrame.replace) with CategoricalDtype is deprecated. In a future version, replace will only be used for cases that preserve the categories. To change the categories, use ser.cat.rename_categories instead.\n",
      "  nodes_list.replace({'sex': sex,'race':race,'grade':grade},inplace=True)\n"
     ]
    },
    {
     "name": "stdout",
     "output_type": "stream",
     "text": [
      "Community #26: one school\n"
     ]
    },
    {
     "name": "stderr",
     "output_type": "stream",
     "text": [
      "C:\\Users\\csh_samu\\Documents\\CSH\\CSH\\projects\\multiple_attributes\\python_GIT\\intersectional_network_inequalities_paper\\multisoc\\infer\\data_loader.py:26: FutureWarning: The behavior of Series.replace (and DataFrame.replace) with CategoricalDtype is deprecated. In a future version, replace will only be used for cases that preserve the categories. To change the categories, use ser.cat.rename_categories instead.\n",
      "  nodes_list.replace({'sex': sex,'race':race,'grade':grade},inplace=True)\n",
      "C:\\Users\\csh_samu\\Documents\\CSH\\CSH\\projects\\multiple_attributes\\python_GIT\\intersectional_network_inequalities_paper\\multisoc\\infer\\data_loader.py:26: FutureWarning: The behavior of Series.replace (and DataFrame.replace) with CategoricalDtype is deprecated. In a future version, replace will only be used for cases that preserve the categories. To change the categories, use ser.cat.rename_categories instead.\n",
      "  nodes_list.replace({'sex': sex,'race':race,'grade':grade},inplace=True)\n"
     ]
    },
    {
     "name": "stdout",
     "output_type": "stream",
     "text": [
      "Community #27: one school\n",
      "There is only one sex category or only one race category: we skip it\n",
      "Community #28: 2 schools\n"
     ]
    },
    {
     "name": "stderr",
     "output_type": "stream",
     "text": [
      "C:\\Users\\csh_samu\\Documents\\CSH\\CSH\\projects\\multiple_attributes\\python_GIT\\intersectional_network_inequalities_paper\\multisoc\\infer\\data_loader.py:26: FutureWarning: The behavior of Series.replace (and DataFrame.replace) with CategoricalDtype is deprecated. In a future version, replace will only be used for cases that preserve the categories. To change the categories, use ser.cat.rename_categories instead.\n",
      "  nodes_list.replace({'sex': sex,'race':race,'grade':grade},inplace=True)\n"
     ]
    },
    {
     "name": "stdout",
     "output_type": "stream",
     "text": [
      "Community #29: one school\n"
     ]
    },
    {
     "name": "stderr",
     "output_type": "stream",
     "text": [
      "C:\\Users\\csh_samu\\Documents\\CSH\\CSH\\projects\\multiple_attributes\\python_GIT\\intersectional_network_inequalities_paper\\multisoc\\infer\\data_loader.py:26: FutureWarning: The behavior of Series.replace (and DataFrame.replace) with CategoricalDtype is deprecated. In a future version, replace will only be used for cases that preserve the categories. To change the categories, use ser.cat.rename_categories instead.\n",
      "  nodes_list.replace({'sex': sex,'race':race,'grade':grade},inplace=True)\n"
     ]
    },
    {
     "name": "stdout",
     "output_type": "stream",
     "text": [
      "Community #30: one school\n"
     ]
    },
    {
     "name": "stderr",
     "output_type": "stream",
     "text": [
      "C:\\Users\\csh_samu\\Documents\\CSH\\CSH\\projects\\multiple_attributes\\python_GIT\\intersectional_network_inequalities_paper\\multisoc\\infer\\data_loader.py:26: FutureWarning: The behavior of Series.replace (and DataFrame.replace) with CategoricalDtype is deprecated. In a future version, replace will only be used for cases that preserve the categories. To change the categories, use ser.cat.rename_categories instead.\n",
      "  nodes_list.replace({'sex': sex,'race':race,'grade':grade},inplace=True)\n"
     ]
    },
    {
     "name": "stdout",
     "output_type": "stream",
     "text": [
      "Community #31: 2 schools\n"
     ]
    },
    {
     "name": "stderr",
     "output_type": "stream",
     "text": [
      "C:\\Users\\csh_samu\\Documents\\CSH\\CSH\\projects\\multiple_attributes\\python_GIT\\intersectional_network_inequalities_paper\\multisoc\\infer\\data_loader.py:26: FutureWarning: The behavior of Series.replace (and DataFrame.replace) with CategoricalDtype is deprecated. In a future version, replace will only be used for cases that preserve the categories. To change the categories, use ser.cat.rename_categories instead.\n",
      "  nodes_list.replace({'sex': sex,'race':race,'grade':grade},inplace=True)\n"
     ]
    },
    {
     "name": "stdout",
     "output_type": "stream",
     "text": [
      "Community #32: one school\n"
     ]
    },
    {
     "name": "stderr",
     "output_type": "stream",
     "text": [
      "C:\\Users\\csh_samu\\Documents\\CSH\\CSH\\projects\\multiple_attributes\\python_GIT\\intersectional_network_inequalities_paper\\multisoc\\infer\\data_loader.py:26: FutureWarning: The behavior of Series.replace (and DataFrame.replace) with CategoricalDtype is deprecated. In a future version, replace will only be used for cases that preserve the categories. To change the categories, use ser.cat.rename_categories instead.\n",
      "  nodes_list.replace({'sex': sex,'race':race,'grade':grade},inplace=True)\n"
     ]
    },
    {
     "name": "stdout",
     "output_type": "stream",
     "text": [
      "Community #33: one school\n"
     ]
    },
    {
     "name": "stderr",
     "output_type": "stream",
     "text": [
      "C:\\Users\\csh_samu\\Documents\\CSH\\CSH\\projects\\multiple_attributes\\python_GIT\\intersectional_network_inequalities_paper\\multisoc\\infer\\data_loader.py:26: FutureWarning: The behavior of Series.replace (and DataFrame.replace) with CategoricalDtype is deprecated. In a future version, replace will only be used for cases that preserve the categories. To change the categories, use ser.cat.rename_categories instead.\n",
      "  nodes_list.replace({'sex': sex,'race':race,'grade':grade},inplace=True)\n"
     ]
    },
    {
     "name": "stdout",
     "output_type": "stream",
     "text": [
      "Community #34: 2 schools\n"
     ]
    },
    {
     "name": "stderr",
     "output_type": "stream",
     "text": [
      "C:\\Users\\csh_samu\\Documents\\CSH\\CSH\\projects\\multiple_attributes\\python_GIT\\intersectional_network_inequalities_paper\\multisoc\\infer\\data_loader.py:26: FutureWarning: The behavior of Series.replace (and DataFrame.replace) with CategoricalDtype is deprecated. In a future version, replace will only be used for cases that preserve the categories. To change the categories, use ser.cat.rename_categories instead.\n",
      "  nodes_list.replace({'sex': sex,'race':race,'grade':grade},inplace=True)\n"
     ]
    },
    {
     "name": "stdout",
     "output_type": "stream",
     "text": [
      "Community #35: 2 schools\n"
     ]
    },
    {
     "name": "stderr",
     "output_type": "stream",
     "text": [
      "C:\\Users\\csh_samu\\Documents\\CSH\\CSH\\projects\\multiple_attributes\\python_GIT\\intersectional_network_inequalities_paper\\multisoc\\infer\\data_loader.py:26: FutureWarning: The behavior of Series.replace (and DataFrame.replace) with CategoricalDtype is deprecated. In a future version, replace will only be used for cases that preserve the categories. To change the categories, use ser.cat.rename_categories instead.\n",
      "  nodes_list.replace({'sex': sex,'race':race,'grade':grade},inplace=True)\n"
     ]
    },
    {
     "name": "stdout",
     "output_type": "stream",
     "text": [
      "Community #36: 2 schools\n"
     ]
    },
    {
     "name": "stderr",
     "output_type": "stream",
     "text": [
      "C:\\Users\\csh_samu\\Documents\\CSH\\CSH\\projects\\multiple_attributes\\python_GIT\\intersectional_network_inequalities_paper\\multisoc\\infer\\data_loader.py:26: FutureWarning: The behavior of Series.replace (and DataFrame.replace) with CategoricalDtype is deprecated. In a future version, replace will only be used for cases that preserve the categories. To change the categories, use ser.cat.rename_categories instead.\n",
      "  nodes_list.replace({'sex': sex,'race':race,'grade':grade},inplace=True)\n"
     ]
    },
    {
     "name": "stdout",
     "output_type": "stream",
     "text": [
      "Community #37: 2 schools\n"
     ]
    },
    {
     "name": "stderr",
     "output_type": "stream",
     "text": [
      "C:\\Users\\csh_samu\\Documents\\CSH\\CSH\\projects\\multiple_attributes\\python_GIT\\intersectional_network_inequalities_paper\\multisoc\\infer\\data_loader.py:26: FutureWarning: The behavior of Series.replace (and DataFrame.replace) with CategoricalDtype is deprecated. In a future version, replace will only be used for cases that preserve the categories. To change the categories, use ser.cat.rename_categories instead.\n",
      "  nodes_list.replace({'sex': sex,'race':race,'grade':grade},inplace=True)\n"
     ]
    },
    {
     "name": "stdout",
     "output_type": "stream",
     "text": [
      "Community #38: one school\n"
     ]
    },
    {
     "name": "stderr",
     "output_type": "stream",
     "text": [
      "C:\\Users\\csh_samu\\Documents\\CSH\\CSH\\projects\\multiple_attributes\\python_GIT\\intersectional_network_inequalities_paper\\multisoc\\infer\\data_loader.py:26: FutureWarning: The behavior of Series.replace (and DataFrame.replace) with CategoricalDtype is deprecated. In a future version, replace will only be used for cases that preserve the categories. To change the categories, use ser.cat.rename_categories instead.\n",
      "  nodes_list.replace({'sex': sex,'race':race,'grade':grade},inplace=True)\n"
     ]
    },
    {
     "name": "stdout",
     "output_type": "stream",
     "text": [
      "Community #39: 2 schools\n"
     ]
    },
    {
     "name": "stderr",
     "output_type": "stream",
     "text": [
      "C:\\Users\\csh_samu\\Documents\\CSH\\CSH\\projects\\multiple_attributes\\python_GIT\\intersectional_network_inequalities_paper\\multisoc\\infer\\data_loader.py:26: FutureWarning: The behavior of Series.replace (and DataFrame.replace) with CategoricalDtype is deprecated. In a future version, replace will only be used for cases that preserve the categories. To change the categories, use ser.cat.rename_categories instead.\n",
      "  nodes_list.replace({'sex': sex,'race':race,'grade':grade},inplace=True)\n"
     ]
    },
    {
     "name": "stdout",
     "output_type": "stream",
     "text": [
      "Community #40: 2 schools\n"
     ]
    },
    {
     "name": "stderr",
     "output_type": "stream",
     "text": [
      "C:\\Users\\csh_samu\\Documents\\CSH\\CSH\\projects\\multiple_attributes\\python_GIT\\intersectional_network_inequalities_paper\\multisoc\\infer\\data_loader.py:26: FutureWarning: The behavior of Series.replace (and DataFrame.replace) with CategoricalDtype is deprecated. In a future version, replace will only be used for cases that preserve the categories. To change the categories, use ser.cat.rename_categories instead.\n",
      "  nodes_list.replace({'sex': sex,'race':race,'grade':grade},inplace=True)\n"
     ]
    },
    {
     "name": "stdout",
     "output_type": "stream",
     "text": [
      "Community #41: 2 schools\n"
     ]
    },
    {
     "name": "stderr",
     "output_type": "stream",
     "text": [
      "C:\\Users\\csh_samu\\Documents\\CSH\\CSH\\projects\\multiple_attributes\\python_GIT\\intersectional_network_inequalities_paper\\multisoc\\infer\\data_loader.py:26: FutureWarning: The behavior of Series.replace (and DataFrame.replace) with CategoricalDtype is deprecated. In a future version, replace will only be used for cases that preserve the categories. To change the categories, use ser.cat.rename_categories instead.\n",
      "  nodes_list.replace({'sex': sex,'race':race,'grade':grade},inplace=True)\n"
     ]
    },
    {
     "name": "stdout",
     "output_type": "stream",
     "text": [
      "Community #42: 2 schools\n"
     ]
    },
    {
     "name": "stderr",
     "output_type": "stream",
     "text": [
      "C:\\Users\\csh_samu\\Documents\\CSH\\CSH\\projects\\multiple_attributes\\python_GIT\\intersectional_network_inequalities_paper\\multisoc\\infer\\data_loader.py:26: FutureWarning: The behavior of Series.replace (and DataFrame.replace) with CategoricalDtype is deprecated. In a future version, replace will only be used for cases that preserve the categories. To change the categories, use ser.cat.rename_categories instead.\n",
      "  nodes_list.replace({'sex': sex,'race':race,'grade':grade},inplace=True)\n"
     ]
    },
    {
     "name": "stdout",
     "output_type": "stream",
     "text": [
      "Community #43: 2 schools\n"
     ]
    },
    {
     "name": "stderr",
     "output_type": "stream",
     "text": [
      "C:\\Users\\csh_samu\\Documents\\CSH\\CSH\\projects\\multiple_attributes\\python_GIT\\intersectional_network_inequalities_paper\\multisoc\\infer\\data_loader.py:26: FutureWarning: The behavior of Series.replace (and DataFrame.replace) with CategoricalDtype is deprecated. In a future version, replace will only be used for cases that preserve the categories. To change the categories, use ser.cat.rename_categories instead.\n",
      "  nodes_list.replace({'sex': sex,'race':race,'grade':grade},inplace=True)\n"
     ]
    },
    {
     "name": "stdout",
     "output_type": "stream",
     "text": [
      "Community #44: 2 schools\n"
     ]
    },
    {
     "name": "stderr",
     "output_type": "stream",
     "text": [
      "C:\\Users\\csh_samu\\Documents\\CSH\\CSH\\projects\\multiple_attributes\\python_GIT\\intersectional_network_inequalities_paper\\multisoc\\infer\\data_loader.py:26: FutureWarning: The behavior of Series.replace (and DataFrame.replace) with CategoricalDtype is deprecated. In a future version, replace will only be used for cases that preserve the categories. To change the categories, use ser.cat.rename_categories instead.\n",
      "  nodes_list.replace({'sex': sex,'race':race,'grade':grade},inplace=True)\n"
     ]
    },
    {
     "name": "stdout",
     "output_type": "stream",
     "text": [
      "Community #45: 2 schools\n"
     ]
    },
    {
     "name": "stderr",
     "output_type": "stream",
     "text": [
      "C:\\Users\\csh_samu\\Documents\\CSH\\CSH\\projects\\multiple_attributes\\python_GIT\\intersectional_network_inequalities_paper\\multisoc\\infer\\data_loader.py:26: FutureWarning: The behavior of Series.replace (and DataFrame.replace) with CategoricalDtype is deprecated. In a future version, replace will only be used for cases that preserve the categories. To change the categories, use ser.cat.rename_categories instead.\n",
      "  nodes_list.replace({'sex': sex,'race':race,'grade':grade},inplace=True)\n"
     ]
    },
    {
     "name": "stdout",
     "output_type": "stream",
     "text": [
      "Community #46: one school\n"
     ]
    },
    {
     "name": "stderr",
     "output_type": "stream",
     "text": [
      "C:\\Users\\csh_samu\\Documents\\CSH\\CSH\\projects\\multiple_attributes\\python_GIT\\intersectional_network_inequalities_paper\\multisoc\\infer\\data_loader.py:26: FutureWarning: The behavior of Series.replace (and DataFrame.replace) with CategoricalDtype is deprecated. In a future version, replace will only be used for cases that preserve the categories. To change the categories, use ser.cat.rename_categories instead.\n",
      "  nodes_list.replace({'sex': sex,'race':race,'grade':grade},inplace=True)\n"
     ]
    },
    {
     "name": "stdout",
     "output_type": "stream",
     "text": [
      "Community #47: 2 schools\n"
     ]
    },
    {
     "name": "stderr",
     "output_type": "stream",
     "text": [
      "C:\\Users\\csh_samu\\Documents\\CSH\\CSH\\projects\\multiple_attributes\\python_GIT\\intersectional_network_inequalities_paper\\multisoc\\infer\\data_loader.py:26: FutureWarning: The behavior of Series.replace (and DataFrame.replace) with CategoricalDtype is deprecated. In a future version, replace will only be used for cases that preserve the categories. To change the categories, use ser.cat.rename_categories instead.\n",
      "  nodes_list.replace({'sex': sex,'race':race,'grade':grade},inplace=True)\n"
     ]
    },
    {
     "name": "stdout",
     "output_type": "stream",
     "text": [
      "Community #49: 2 schools\n"
     ]
    },
    {
     "name": "stderr",
     "output_type": "stream",
     "text": [
      "C:\\Users\\csh_samu\\Documents\\CSH\\CSH\\projects\\multiple_attributes\\python_GIT\\intersectional_network_inequalities_paper\\multisoc\\infer\\data_loader.py:26: FutureWarning: The behavior of Series.replace (and DataFrame.replace) with CategoricalDtype is deprecated. In a future version, replace will only be used for cases that preserve the categories. To change the categories, use ser.cat.rename_categories instead.\n",
      "  nodes_list.replace({'sex': sex,'race':race,'grade':grade},inplace=True)\n"
     ]
    },
    {
     "name": "stdout",
     "output_type": "stream",
     "text": [
      "Community #50: 2 schools\n"
     ]
    },
    {
     "name": "stderr",
     "output_type": "stream",
     "text": [
      "C:\\Users\\csh_samu\\Documents\\CSH\\CSH\\projects\\multiple_attributes\\python_GIT\\intersectional_network_inequalities_paper\\multisoc\\infer\\data_loader.py:26: FutureWarning: The behavior of Series.replace (and DataFrame.replace) with CategoricalDtype is deprecated. In a future version, replace will only be used for cases that preserve the categories. To change the categories, use ser.cat.rename_categories instead.\n",
      "  nodes_list.replace({'sex': sex,'race':race,'grade':grade},inplace=True)\n"
     ]
    },
    {
     "name": "stdout",
     "output_type": "stream",
     "text": [
      "Community #51: 2 schools\n"
     ]
    },
    {
     "name": "stderr",
     "output_type": "stream",
     "text": [
      "C:\\Users\\csh_samu\\Documents\\CSH\\CSH\\projects\\multiple_attributes\\python_GIT\\intersectional_network_inequalities_paper\\multisoc\\infer\\data_loader.py:26: FutureWarning: The behavior of Series.replace (and DataFrame.replace) with CategoricalDtype is deprecated. In a future version, replace will only be used for cases that preserve the categories. To change the categories, use ser.cat.rename_categories instead.\n",
      "  nodes_list.replace({'sex': sex,'race':race,'grade':grade},inplace=True)\n"
     ]
    },
    {
     "name": "stdout",
     "output_type": "stream",
     "text": [
      "Community #52: one school\n"
     ]
    },
    {
     "name": "stderr",
     "output_type": "stream",
     "text": [
      "C:\\Users\\csh_samu\\Documents\\CSH\\CSH\\projects\\multiple_attributes\\python_GIT\\intersectional_network_inequalities_paper\\multisoc\\infer\\data_loader.py:26: FutureWarning: The behavior of Series.replace (and DataFrame.replace) with CategoricalDtype is deprecated. In a future version, replace will only be used for cases that preserve the categories. To change the categories, use ser.cat.rename_categories instead.\n",
      "  nodes_list.replace({'sex': sex,'race':race,'grade':grade},inplace=True)\n"
     ]
    },
    {
     "name": "stdout",
     "output_type": "stream",
     "text": [
      "Community #53: 2 schools\n"
     ]
    },
    {
     "name": "stderr",
     "output_type": "stream",
     "text": [
      "C:\\Users\\csh_samu\\Documents\\CSH\\CSH\\projects\\multiple_attributes\\python_GIT\\intersectional_network_inequalities_paper\\multisoc\\infer\\data_loader.py:26: FutureWarning: The behavior of Series.replace (and DataFrame.replace) with CategoricalDtype is deprecated. In a future version, replace will only be used for cases that preserve the categories. To change the categories, use ser.cat.rename_categories instead.\n",
      "  nodes_list.replace({'sex': sex,'race':race,'grade':grade},inplace=True)\n"
     ]
    },
    {
     "name": "stdout",
     "output_type": "stream",
     "text": [
      "Community #54: 2 schools\n"
     ]
    },
    {
     "name": "stderr",
     "output_type": "stream",
     "text": [
      "C:\\Users\\csh_samu\\Documents\\CSH\\CSH\\projects\\multiple_attributes\\python_GIT\\intersectional_network_inequalities_paper\\multisoc\\infer\\data_loader.py:26: FutureWarning: The behavior of Series.replace (and DataFrame.replace) with CategoricalDtype is deprecated. In a future version, replace will only be used for cases that preserve the categories. To change the categories, use ser.cat.rename_categories instead.\n",
      "  nodes_list.replace({'sex': sex,'race':race,'grade':grade},inplace=True)\n"
     ]
    },
    {
     "name": "stdout",
     "output_type": "stream",
     "text": [
      "Community #55: one school\n"
     ]
    },
    {
     "name": "stderr",
     "output_type": "stream",
     "text": [
      "C:\\Users\\csh_samu\\Documents\\CSH\\CSH\\projects\\multiple_attributes\\python_GIT\\intersectional_network_inequalities_paper\\multisoc\\infer\\data_loader.py:26: FutureWarning: The behavior of Series.replace (and DataFrame.replace) with CategoricalDtype is deprecated. In a future version, replace will only be used for cases that preserve the categories. To change the categories, use ser.cat.rename_categories instead.\n",
      "  nodes_list.replace({'sex': sex,'race':race,'grade':grade},inplace=True)\n"
     ]
    },
    {
     "name": "stdout",
     "output_type": "stream",
     "text": [
      "Community #56: one school\n"
     ]
    },
    {
     "name": "stderr",
     "output_type": "stream",
     "text": [
      "C:\\Users\\csh_samu\\Documents\\CSH\\CSH\\projects\\multiple_attributes\\python_GIT\\intersectional_network_inequalities_paper\\multisoc\\infer\\data_loader.py:26: FutureWarning: The behavior of Series.replace (and DataFrame.replace) with CategoricalDtype is deprecated. In a future version, replace will only be used for cases that preserve the categories. To change the categories, use ser.cat.rename_categories instead.\n",
      "  nodes_list.replace({'sex': sex,'race':race,'grade':grade},inplace=True)\n"
     ]
    },
    {
     "name": "stdout",
     "output_type": "stream",
     "text": [
      "Community #57: 2 schools\n"
     ]
    },
    {
     "name": "stderr",
     "output_type": "stream",
     "text": [
      "C:\\Users\\csh_samu\\Documents\\CSH\\CSH\\projects\\multiple_attributes\\python_GIT\\intersectional_network_inequalities_paper\\multisoc\\infer\\data_loader.py:26: FutureWarning: The behavior of Series.replace (and DataFrame.replace) with CategoricalDtype is deprecated. In a future version, replace will only be used for cases that preserve the categories. To change the categories, use ser.cat.rename_categories instead.\n",
      "  nodes_list.replace({'sex': sex,'race':race,'grade':grade},inplace=True)\n"
     ]
    },
    {
     "name": "stdout",
     "output_type": "stream",
     "text": [
      "Community #58: 2 schools\n"
     ]
    },
    {
     "name": "stderr",
     "output_type": "stream",
     "text": [
      "C:\\Users\\csh_samu\\Documents\\CSH\\CSH\\projects\\multiple_attributes\\python_GIT\\intersectional_network_inequalities_paper\\multisoc\\infer\\data_loader.py:26: FutureWarning: The behavior of Series.replace (and DataFrame.replace) with CategoricalDtype is deprecated. In a future version, replace will only be used for cases that preserve the categories. To change the categories, use ser.cat.rename_categories instead.\n",
      "  nodes_list.replace({'sex': sex,'race':race,'grade':grade},inplace=True)\n"
     ]
    },
    {
     "name": "stdout",
     "output_type": "stream",
     "text": [
      "Community #59: 2 schools\n"
     ]
    },
    {
     "name": "stderr",
     "output_type": "stream",
     "text": [
      "C:\\Users\\csh_samu\\Documents\\CSH\\CSH\\projects\\multiple_attributes\\python_GIT\\intersectional_network_inequalities_paper\\multisoc\\infer\\data_loader.py:26: FutureWarning: The behavior of Series.replace (and DataFrame.replace) with CategoricalDtype is deprecated. In a future version, replace will only be used for cases that preserve the categories. To change the categories, use ser.cat.rename_categories instead.\n",
      "  nodes_list.replace({'sex': sex,'race':race,'grade':grade},inplace=True)\n"
     ]
    },
    {
     "name": "stdout",
     "output_type": "stream",
     "text": [
      "Community #60: 2 schools\n"
     ]
    },
    {
     "name": "stderr",
     "output_type": "stream",
     "text": [
      "C:\\Users\\csh_samu\\Documents\\CSH\\CSH\\projects\\multiple_attributes\\python_GIT\\intersectional_network_inequalities_paper\\multisoc\\infer\\data_loader.py:26: FutureWarning: The behavior of Series.replace (and DataFrame.replace) with CategoricalDtype is deprecated. In a future version, replace will only be used for cases that preserve the categories. To change the categories, use ser.cat.rename_categories instead.\n",
      "  nodes_list.replace({'sex': sex,'race':race,'grade':grade},inplace=True)\n"
     ]
    },
    {
     "name": "stdout",
     "output_type": "stream",
     "text": [
      "Community #61: 2 schools\n"
     ]
    },
    {
     "name": "stderr",
     "output_type": "stream",
     "text": [
      "C:\\Users\\csh_samu\\Documents\\CSH\\CSH\\projects\\multiple_attributes\\python_GIT\\intersectional_network_inequalities_paper\\multisoc\\infer\\data_loader.py:26: FutureWarning: The behavior of Series.replace (and DataFrame.replace) with CategoricalDtype is deprecated. In a future version, replace will only be used for cases that preserve the categories. To change the categories, use ser.cat.rename_categories instead.\n",
      "  nodes_list.replace({'sex': sex,'race':race,'grade':grade},inplace=True)\n"
     ]
    },
    {
     "name": "stdout",
     "output_type": "stream",
     "text": [
      "Community #62: one school\n"
     ]
    },
    {
     "name": "stderr",
     "output_type": "stream",
     "text": [
      "C:\\Users\\csh_samu\\Documents\\CSH\\CSH\\projects\\multiple_attributes\\python_GIT\\intersectional_network_inequalities_paper\\multisoc\\infer\\data_loader.py:26: FutureWarning: The behavior of Series.replace (and DataFrame.replace) with CategoricalDtype is deprecated. In a future version, replace will only be used for cases that preserve the categories. To change the categories, use ser.cat.rename_categories instead.\n",
      "  nodes_list.replace({'sex': sex,'race':race,'grade':grade},inplace=True)\n",
      "C:\\Users\\csh_samu\\Documents\\CSH\\CSH\\projects\\multiple_attributes\\python_GIT\\intersectional_network_inequalities_paper\\multisoc\\infer\\data_loader.py:26: FutureWarning: The behavior of Series.replace (and DataFrame.replace) with CategoricalDtype is deprecated. In a future version, replace will only be used for cases that preserve the categories. To change the categories, use ser.cat.rename_categories instead.\n",
      "  nodes_list.replace({'sex': sex,'race':race,'grade':grade},inplace=True)\n"
     ]
    },
    {
     "name": "stdout",
     "output_type": "stream",
     "text": [
      "Community #63: one school\n",
      "There is only one sex category or only one race category: we skip it\n",
      "Community #64: one school\n"
     ]
    },
    {
     "name": "stderr",
     "output_type": "stream",
     "text": [
      "C:\\Users\\csh_samu\\Documents\\CSH\\CSH\\projects\\multiple_attributes\\python_GIT\\intersectional_network_inequalities_paper\\multisoc\\infer\\data_loader.py:26: FutureWarning: The behavior of Series.replace (and DataFrame.replace) with CategoricalDtype is deprecated. In a future version, replace will only be used for cases that preserve the categories. To change the categories, use ser.cat.rename_categories instead.\n",
      "  nodes_list.replace({'sex': sex,'race':race,'grade':grade},inplace=True)\n"
     ]
    },
    {
     "name": "stdout",
     "output_type": "stream",
     "text": [
      "Community #65: 2 schools\n"
     ]
    },
    {
     "name": "stderr",
     "output_type": "stream",
     "text": [
      "C:\\Users\\csh_samu\\Documents\\CSH\\CSH\\projects\\multiple_attributes\\python_GIT\\intersectional_network_inequalities_paper\\multisoc\\infer\\data_loader.py:26: FutureWarning: The behavior of Series.replace (and DataFrame.replace) with CategoricalDtype is deprecated. In a future version, replace will only be used for cases that preserve the categories. To change the categories, use ser.cat.rename_categories instead.\n",
      "  nodes_list.replace({'sex': sex,'race':race,'grade':grade},inplace=True)\n"
     ]
    },
    {
     "name": "stdout",
     "output_type": "stream",
     "text": [
      "Community #66: one school\n"
     ]
    },
    {
     "name": "stderr",
     "output_type": "stream",
     "text": [
      "C:\\Users\\csh_samu\\Documents\\CSH\\CSH\\projects\\multiple_attributes\\python_GIT\\intersectional_network_inequalities_paper\\multisoc\\infer\\data_loader.py:26: FutureWarning: The behavior of Series.replace (and DataFrame.replace) with CategoricalDtype is deprecated. In a future version, replace will only be used for cases that preserve the categories. To change the categories, use ser.cat.rename_categories instead.\n",
      "  nodes_list.replace({'sex': sex,'race':race,'grade':grade},inplace=True)\n"
     ]
    },
    {
     "name": "stdout",
     "output_type": "stream",
     "text": [
      "Community #67: one school\n"
     ]
    },
    {
     "name": "stderr",
     "output_type": "stream",
     "text": [
      "C:\\Users\\csh_samu\\Documents\\CSH\\CSH\\projects\\multiple_attributes\\python_GIT\\intersectional_network_inequalities_paper\\multisoc\\infer\\data_loader.py:26: FutureWarning: The behavior of Series.replace (and DataFrame.replace) with CategoricalDtype is deprecated. In a future version, replace will only be used for cases that preserve the categories. To change the categories, use ser.cat.rename_categories instead.\n",
      "  nodes_list.replace({'sex': sex,'race':race,'grade':grade},inplace=True)\n"
     ]
    },
    {
     "name": "stdout",
     "output_type": "stream",
     "text": [
      "Community #68: 2 schools\n"
     ]
    },
    {
     "name": "stderr",
     "output_type": "stream",
     "text": [
      "C:\\Users\\csh_samu\\Documents\\CSH\\CSH\\projects\\multiple_attributes\\python_GIT\\intersectional_network_inequalities_paper\\multisoc\\infer\\data_loader.py:26: FutureWarning: The behavior of Series.replace (and DataFrame.replace) with CategoricalDtype is deprecated. In a future version, replace will only be used for cases that preserve the categories. To change the categories, use ser.cat.rename_categories instead.\n",
      "  nodes_list.replace({'sex': sex,'race':race,'grade':grade},inplace=True)\n"
     ]
    },
    {
     "name": "stdout",
     "output_type": "stream",
     "text": [
      "Community #69: 2 schools\n"
     ]
    },
    {
     "name": "stderr",
     "output_type": "stream",
     "text": [
      "C:\\Users\\csh_samu\\Documents\\CSH\\CSH\\projects\\multiple_attributes\\python_GIT\\intersectional_network_inequalities_paper\\multisoc\\infer\\data_loader.py:26: FutureWarning: The behavior of Series.replace (and DataFrame.replace) with CategoricalDtype is deprecated. In a future version, replace will only be used for cases that preserve the categories. To change the categories, use ser.cat.rename_categories instead.\n",
      "  nodes_list.replace({'sex': sex,'race':race,'grade':grade},inplace=True)\n",
      "C:\\Users\\csh_samu\\Documents\\CSH\\CSH\\projects\\multiple_attributes\\python_GIT\\intersectional_network_inequalities_paper\\multisoc\\infer\\data_loader.py:26: FutureWarning: The behavior of Series.replace (and DataFrame.replace) with CategoricalDtype is deprecated. In a future version, replace will only be used for cases that preserve the categories. To change the categories, use ser.cat.rename_categories instead.\n",
      "  nodes_list.replace({'sex': sex,'race':race,'grade':grade},inplace=True)\n",
      "C:\\Users\\csh_samu\\Documents\\CSH\\CSH\\projects\\multiple_attributes\\python_GIT\\intersectional_network_inequalities_paper\\multisoc\\infer\\data_loader.py:26: FutureWarning: The behavior of Series.replace (and DataFrame.replace) with CategoricalDtype is deprecated. In a future version, replace will only be used for cases that preserve the categories. To change the categories, use ser.cat.rename_categories instead.\n",
      "  nodes_list.replace({'sex': sex,'race':race,'grade':grade},inplace=True)\n"
     ]
    },
    {
     "name": "stdout",
     "output_type": "stream",
     "text": [
      "Community #70: one school\n",
      "There are less than 100 students in this school: we skip it\n",
      "Community #71: one school\n",
      "There are less than 100 students in this school: we skip it\n",
      "Community #72: one school\n"
     ]
    },
    {
     "name": "stderr",
     "output_type": "stream",
     "text": [
      "C:\\Users\\csh_samu\\Documents\\CSH\\CSH\\projects\\multiple_attributes\\python_GIT\\intersectional_network_inequalities_paper\\multisoc\\infer\\data_loader.py:26: FutureWarning: The behavior of Series.replace (and DataFrame.replace) with CategoricalDtype is deprecated. In a future version, replace will only be used for cases that preserve the categories. To change the categories, use ser.cat.rename_categories instead.\n",
      "  nodes_list.replace({'sex': sex,'race':race,'grade':grade},inplace=True)\n"
     ]
    },
    {
     "name": "stdout",
     "output_type": "stream",
     "text": [
      "Community #73: 2 schools\n"
     ]
    },
    {
     "name": "stderr",
     "output_type": "stream",
     "text": [
      "C:\\Users\\csh_samu\\Documents\\CSH\\CSH\\projects\\multiple_attributes\\python_GIT\\intersectional_network_inequalities_paper\\multisoc\\infer\\data_loader.py:26: FutureWarning: The behavior of Series.replace (and DataFrame.replace) with CategoricalDtype is deprecated. In a future version, replace will only be used for cases that preserve the categories. To change the categories, use ser.cat.rename_categories instead.\n",
      "  nodes_list.replace({'sex': sex,'race':race,'grade':grade},inplace=True)\n"
     ]
    },
    {
     "name": "stdout",
     "output_type": "stream",
     "text": [
      "Community #74: one school\n"
     ]
    },
    {
     "name": "stderr",
     "output_type": "stream",
     "text": [
      "C:\\Users\\csh_samu\\Documents\\CSH\\CSH\\projects\\multiple_attributes\\python_GIT\\intersectional_network_inequalities_paper\\multisoc\\infer\\data_loader.py:26: FutureWarning: The behavior of Series.replace (and DataFrame.replace) with CategoricalDtype is deprecated. In a future version, replace will only be used for cases that preserve the categories. To change the categories, use ser.cat.rename_categories instead.\n",
      "  nodes_list.replace({'sex': sex,'race':race,'grade':grade},inplace=True)\n"
     ]
    },
    {
     "name": "stdout",
     "output_type": "stream",
     "text": [
      "Community #75: 2 schools\n"
     ]
    },
    {
     "name": "stderr",
     "output_type": "stream",
     "text": [
      "C:\\Users\\csh_samu\\Documents\\CSH\\CSH\\projects\\multiple_attributes\\python_GIT\\intersectional_network_inequalities_paper\\multisoc\\infer\\data_loader.py:26: FutureWarning: The behavior of Series.replace (and DataFrame.replace) with CategoricalDtype is deprecated. In a future version, replace will only be used for cases that preserve the categories. To change the categories, use ser.cat.rename_categories instead.\n",
      "  nodes_list.replace({'sex': sex,'race':race,'grade':grade},inplace=True)\n",
      "C:\\Users\\csh_samu\\Documents\\CSH\\CSH\\projects\\multiple_attributes\\python_GIT\\intersectional_network_inequalities_paper\\multisoc\\infer\\data_loader.py:26: FutureWarning: The behavior of Series.replace (and DataFrame.replace) with CategoricalDtype is deprecated. In a future version, replace will only be used for cases that preserve the categories. To change the categories, use ser.cat.rename_categories instead.\n",
      "  nodes_list.replace({'sex': sex,'race':race,'grade':grade},inplace=True)\n",
      "C:\\Users\\csh_samu\\Documents\\CSH\\CSH\\projects\\multiple_attributes\\python_GIT\\intersectional_network_inequalities_paper\\multisoc\\infer\\data_loader.py:26: FutureWarning: The behavior of Series.replace (and DataFrame.replace) with CategoricalDtype is deprecated. In a future version, replace will only be used for cases that preserve the categories. To change the categories, use ser.cat.rename_categories instead.\n",
      "  nodes_list.replace({'sex': sex,'race':race,'grade':grade},inplace=True)\n"
     ]
    },
    {
     "name": "stdout",
     "output_type": "stream",
     "text": [
      "Community #76: one school\n",
      "There is only one sex category or only one race category: we skip it\n",
      "Community #77: one school\n",
      "There are less than 100 students in this school: we skip it\n",
      "Community #78: one school\n"
     ]
    },
    {
     "name": "stderr",
     "output_type": "stream",
     "text": [
      "C:\\Users\\csh_samu\\Documents\\CSH\\CSH\\projects\\multiple_attributes\\python_GIT\\intersectional_network_inequalities_paper\\multisoc\\infer\\data_loader.py:26: FutureWarning: The behavior of Series.replace (and DataFrame.replace) with CategoricalDtype is deprecated. In a future version, replace will only be used for cases that preserve the categories. To change the categories, use ser.cat.rename_categories instead.\n",
      "  nodes_list.replace({'sex': sex,'race':race,'grade':grade},inplace=True)\n"
     ]
    },
    {
     "name": "stdout",
     "output_type": "stream",
     "text": [
      "Community #79: one school\n"
     ]
    },
    {
     "name": "stderr",
     "output_type": "stream",
     "text": [
      "C:\\Users\\csh_samu\\Documents\\CSH\\CSH\\projects\\multiple_attributes\\python_GIT\\intersectional_network_inequalities_paper\\multisoc\\infer\\data_loader.py:26: FutureWarning: The behavior of Series.replace (and DataFrame.replace) with CategoricalDtype is deprecated. In a future version, replace will only be used for cases that preserve the categories. To change the categories, use ser.cat.rename_categories instead.\n",
      "  nodes_list.replace({'sex': sex,'race':race,'grade':grade},inplace=True)\n"
     ]
    },
    {
     "name": "stdout",
     "output_type": "stream",
     "text": [
      "Community #80: one school\n"
     ]
    },
    {
     "name": "stderr",
     "output_type": "stream",
     "text": [
      "C:\\Users\\csh_samu\\Documents\\CSH\\CSH\\projects\\multiple_attributes\\python_GIT\\intersectional_network_inequalities_paper\\multisoc\\infer\\data_loader.py:26: FutureWarning: The behavior of Series.replace (and DataFrame.replace) with CategoricalDtype is deprecated. In a future version, replace will only be used for cases that preserve the categories. To change the categories, use ser.cat.rename_categories instead.\n",
      "  nodes_list.replace({'sex': sex,'race':race,'grade':grade},inplace=True)\n"
     ]
    },
    {
     "name": "stdout",
     "output_type": "stream",
     "text": [
      "Community #81: one school\n"
     ]
    },
    {
     "name": "stderr",
     "output_type": "stream",
     "text": [
      "C:\\Users\\csh_samu\\Documents\\CSH\\CSH\\projects\\multiple_attributes\\python_GIT\\intersectional_network_inequalities_paper\\multisoc\\infer\\data_loader.py:26: FutureWarning: The behavior of Series.replace (and DataFrame.replace) with CategoricalDtype is deprecated. In a future version, replace will only be used for cases that preserve the categories. To change the categories, use ser.cat.rename_categories instead.\n",
      "  nodes_list.replace({'sex': sex,'race':race,'grade':grade},inplace=True)\n"
     ]
    },
    {
     "name": "stdout",
     "output_type": "stream",
     "text": [
      "Community #82: one school\n"
     ]
    },
    {
     "name": "stderr",
     "output_type": "stream",
     "text": [
      "C:\\Users\\csh_samu\\Documents\\CSH\\CSH\\projects\\multiple_attributes\\python_GIT\\intersectional_network_inequalities_paper\\multisoc\\infer\\data_loader.py:26: FutureWarning: The behavior of Series.replace (and DataFrame.replace) with CategoricalDtype is deprecated. In a future version, replace will only be used for cases that preserve the categories. To change the categories, use ser.cat.rename_categories instead.\n",
      "  nodes_list.replace({'sex': sex,'race':race,'grade':grade},inplace=True)\n"
     ]
    },
    {
     "name": "stdout",
     "output_type": "stream",
     "text": [
      "Community #83: one school\n"
     ]
    },
    {
     "name": "stderr",
     "output_type": "stream",
     "text": [
      "C:\\Users\\csh_samu\\Documents\\CSH\\CSH\\projects\\multiple_attributes\\python_GIT\\intersectional_network_inequalities_paper\\multisoc\\infer\\data_loader.py:26: FutureWarning: The behavior of Series.replace (and DataFrame.replace) with CategoricalDtype is deprecated. In a future version, replace will only be used for cases that preserve the categories. To change the categories, use ser.cat.rename_categories instead.\n",
      "  nodes_list.replace({'sex': sex,'race':race,'grade':grade},inplace=True)\n"
     ]
    },
    {
     "name": "stdout",
     "output_type": "stream",
     "text": [
      "Community #84: 2 schools\n"
     ]
    }
   ],
   "source": [
    "bad_comms = [48, 1]\n",
    "\n",
    "ineq_emp_lst = {d:{k:[] for k in v} for d,v in all_attributes_dict.items()}\n",
    "ineq_anal_lst = {d:{k:[] for k in v} for d,v in all_attributes_dict.items()}\n",
    "ineq_emp_multi_lst = {group:[] for group in multidim_groups}\n",
    "\n",
    "## Load edges lists filtered by the same method used to compute H\n",
    "for school in range(1,85):\n",
    "    if school in bad_comms:\n",
    "        continue\n",
    "    nodes_list,edges_list = data_loader.load_AddHealth(school, \n",
    "                                                       th_sex = 20, \n",
    "                                                       th_race= 20, \n",
    "                                                       th_grade= 20, \n",
    "                                                       school= None, \n",
    "                                                       remove_unreported=True\n",
    "                                                      )\n",
    "    if len(nodes_list['sex'].cat.categories)==1 or len(nodes_list['race'].cat.categories)==1:\n",
    "        print('There is only one sex category or only one race category: we skip it')\n",
    "    elif nodes_list.shape[0]<100:\n",
    "        print('There are less than 100 students in this school: we skip it')\n",
    "    else:\n",
    "        assert school in results_df[\"school\"].values\n",
    "        results_df_row = results_df[results_df[\"school\"]==school]\n",
    "        \n",
    "        ## Compute 1D inequalities - empirical\n",
    "        ineq_emp = all_emp_ineq_from_nodes_edges_df(nodes_list, edges_list, dimensions_list)\n",
    "            \n",
    "        ## Compute 1D inequalities - analytical\n",
    "        ineq_anal = anal_inequalities_1D_from_data(nodes_list,edges_list,results_df_row,all_attributes_dict,dimensions_list,aggr_fun=\"and_1d-simple\")\n",
    "        \n",
    "        for d,vals in all_attributes_dict.items():\n",
    "            for v in vals:\n",
    "                \n",
    "                try:\n",
    "                    ineq_emp_lst[d][v].append(ineq_emp[d][v])\n",
    "                except KeyError:\n",
    "                    ineq_emp_lst[d][v].append(np.nan)\n",
    "                    \n",
    "                try:\n",
    "                    ineq_anal_lst[d][v].append(ineq_anal[d][v])\n",
    "                except KeyError:\n",
    "                    ineq_anal_lst[d][v].append(np.nan)\n",
    "\n",
    "        ## Multidimensional 1vRest inequalities\n",
    "        ## Empirical\n",
    "        multi_ineq_emp = all_multi_emp_ineq_from_nodes_edges_df(\n",
    "                nodes_list,\n",
    "                edges_list,\n",
    "                multidim_groups,\n",
    "                dimensions_list)\n",
    "        for group in multidim_groups:\n",
    "            ineq_emp_multi_lst[group].append(multi_ineq_emp[group])"
   ]
  },
  {
   "cell_type": "markdown",
   "id": "8d5193c5-bd60-476e-957b-a7164129e3c5",
   "metadata": {},
   "source": [
    "## Plot one-dimensional inequalities\n",
    "Shapes\n",
    "------\n",
    "Grade -> circle\n",
    "\n",
    "Race -> square\n",
    "\n",
    "Sex -> triangle\n",
    "\n",
    "-----------------------\n",
    "\n",
    "Colors\n",
    "------\n",
    "7-> C0 [blue]\n",
    "\n",
    "8->C1 [orange]\n",
    "\n",
    "9->C2 [green]\n",
    "\n",
    "10->C3 [red]\n",
    "\n",
    "11->C4 [purple]\n",
    "\n",
    "12->C5 [brown]\n",
    "\n",
    "-------\n",
    "\n",
    "White-> C0 [blue]\n",
    "\n",
    "Black->C1 [orange]\n",
    "\n",
    "Hispanic->C2 [green]\n",
    "\n",
    "Asian->C3 [red]\n",
    "\n",
    "Mixed->C4 [purple]\n",
    "\n",
    "------\n",
    "\n",
    "Female-> C0 [blue]\n",
    "\n",
    "Male->C1 [orange]"
   ]
  },
  {
   "cell_type": "code",
   "execution_count": 5,
   "id": "8d4786fc-b021-4bd4-bfdd-923d192d7c88",
   "metadata": {},
   "outputs": [
    {
     "data": {
      "text/plain": [
       "{'grade': ['7th', '8th', '9th', '10th', '11th', '12th'],\n",
       " 'race': ['White', 'Black', 'Hispanic', 'Asian', 'Mixed/other'],\n",
       " 'sex': ['Female', 'Male']}"
      ]
     },
     "execution_count": 5,
     "metadata": {},
     "output_type": "execute_result"
    }
   ],
   "source": [
    "all_attributes_dict"
   ]
  },
  {
   "cell_type": "code",
   "execution_count": 6,
   "id": "fc78cdb1-f0e7-4168-b62b-9fd62dcce95f",
   "metadata": {},
   "outputs": [
    {
     "name": "stdout",
     "output_type": "stream",
     "text": [
      "LinregressResult(slope=0.6591919260684154, intercept=-0.0006614102401446952, rvalue=0.9611665132670962, pvalue=0.0, stderr=0.00673806465157114, intercept_stderr=0.0011251409442612607) 0.9238410662260271\n"
     ]
    },
    {
     "data": {
      "image/png": "[encoded data removed]",
      "text/plain": [
       "<Figure size 900x300 with 4 Axes>"
      ]
     },
     "metadata": {},
     "output_type": "display_data"
    }
   ],
   "source": [
    "## Combined figure\n",
    "plt.close(\"all\")\n",
    "ndim = len(dimensions_list)\n",
    "g_vec = [len(all_attributes_dict[d]) for d in dimensions_list]\n",
    "fig, axs = plt.subplots(1,ndim+1,figsize=(.75*5*ndim*.8,.75*4), gridspec_kw={'width_ratios': [g_vec[0]]+g_vec}, sharey=True)\n",
    "\n",
    "#########################################################\n",
    "symbols = [\"o\",\"s\",r\"^\"]\n",
    "## First axes\n",
    "plt.sca(axs[0])\n",
    "\n",
    "allx = []\n",
    "ally = []\n",
    "for di,d in enumerate(dimensions_list):\n",
    "    for v in all_attributes_dict[d]:\n",
    "        plt.plot(ineq_anal_lst[d][v],ineq_emp_lst[d][v],symbols[di], ms=3,label=v)\n",
    "        ally.extend(ineq_emp_lst[d][v])\n",
    "        allx.extend(ineq_anal_lst[d][v])\n",
    "# plt.legend()\n",
    "msk = np.logical_and(~np.isnan(allx),~np.isnan(ally))\n",
    "allx = np.array(allx)[msk]\n",
    "ally = np.array(ally)[msk]\n",
    "plt.plot([-.7,.7],[-.7,.7],\"--k\",zorder=0)\n",
    "lr = stats.linregress(allx,ally)\n",
    "print (lr, lr.rvalue**2)\n",
    "\n",
    "sns.regplot(pd.DataFrame({\"x\":allx,\"y\":ally}),x=\"x\",y=\"y\", scatter=False, ci=99, color=\"grey\")\n",
    "# plt.plot(allx, lr.intercept + allx*lr.slope,\"-\")\n",
    "\n",
    "plt.ylim(-.65,.65)\n",
    "\n",
    "plt.axvline(0,color=\"grey\",ls=\"--\",alpha=0.3)\n",
    "plt.axhline(0,color=\"grey\",ls=\"--\",alpha=0.3)\n",
    "\n",
    "plt.xlabel(r\"Analytical inequality ($\\delta$)\")\n",
    "plt.ylabel(r\"Empirical inequality ($\\delta$)\")\n",
    "\n",
    "## Annotate y=x line\n",
    "axs[0].annotate(\"$y=x$\",\n",
    "                xy=(0.33, 0.33), xycoords='data',\n",
    "                ha = \"left\",\n",
    "                va = \"bottom\",\n",
    "                xytext=(0.0, 0.5), textcoords='data',\n",
    "                arrowprops=dict(arrowstyle=\"-|>\", color=\"0.5\",\n",
    "                                shrinkA=5, shrinkB=5,\n",
    "                                patchA=None, patchB=None,\n",
    "                                connectionstyle=\"arc3,rad=0.3\",\n",
    "                                ),\n",
    "                )\n",
    "\n",
    "## Annotate linear fit\n",
    "formula_reg = f\"$y = {lr.slope:.02f}x$\\n$r^2={lr.rvalue**2:.02f}$\"\n",
    "axs[0].annotate(formula_reg,\n",
    "                xy=(-0.6, -0.4), xycoords='data',\n",
    "                ha = \"left\",\n",
    "                va = \"bottom\",\n",
    "                xytext=(-0.7, 0.0), textcoords='data',\n",
    "                arrowprops=dict(arrowstyle=\"-|>\", color=\"0.5\",\n",
    "                                shrinkA=15, shrinkB=5,\n",
    "                                patchA=None, patchB=None,\n",
    "                                connectionstyle=\"arc3,rad=0.3\",\n",
    "                                ),\n",
    "                )\n",
    "\n",
    "##################################################################\n",
    "## Rest axes\n",
    "\n",
    "for di, d in enumerate(dimensions_list):\n",
    "    color = f\"C{di}\"\n",
    "    \n",
    "    xtcks = []\n",
    "    plt.sca(axs[di+1])\n",
    "    plt_cntr = 0\n",
    "    for v in all_attributes_dict[d]:\n",
    "\n",
    "        # plt.ylim(-0.6,0.6)\n",
    "        vals = np.array(ineq_emp_lst[d][v])\n",
    "        vals = vals[~np.isnan(vals)]\n",
    "        p = plt.violinplot(vals,positions=[plt_cntr],showmeans=False, showmedians=False, showextrema=False, vert=True)\n",
    "        p[\"bodies\"][0].set_facecolor(color)\n",
    "        plt.boxplot(vals,positions=[plt_cntr],\n",
    "                    # notch=True,bootstrap=10000,\n",
    "                    sym = \"\", ## do not plot outliers,\n",
    "                    patch_artist=True,\n",
    "                    boxprops=dict(facecolor='black'),\n",
    "                    medianprops=dict(alpha=0),\n",
    "                    capprops=dict(alpha=0)\n",
    "                   )\n",
    "        plt.plot(plt_cntr,np.median(vals),\"ow\",ms=3)\n",
    "        plt_cntr += 1\n",
    "\n",
    "        xtcks.append(v)\n",
    "\n",
    "    rotation = 45 if any([len(i)>4 for i in xtcks]) else 0\n",
    "    ha = \"right\" if rotation == 45 else \"center\"\n",
    "    plt.xticks(range(len(xtcks)),xtcks,rotation=rotation,ha=ha)\n",
    "    plt.axhline(0,color=\"grey\",ls=\"--\",zorder=0)\n",
    "\n",
    "## Layout design\n",
    "\n",
    "## Spines\n",
    "axs[0].spines[['right', 'top']].set_visible(False)\n",
    "for ax in axs[1:]:\n",
    "    ax.spines[['left','right', 'top']].set_visible(False)\n",
    "    ax.tick_params(axis='y', which='both', length=0)\n",
    "    plt.setp(ax.get_yticklabels(), visible=False)    \n",
    "\n",
    "plt.tight_layout()\n",
    "plt.subplots_adjust( \n",
    "                    wspace=0.15)\n",
    "\n",
    "# plt.savefig(\"temp/Fig5_top.png\",dpi=600)\n",
    "plt.show()"
   ]
  },
  {
   "cell_type": "markdown",
   "id": "2efd5240-d903-4430-9415-876cae80b7bc",
   "metadata": {},
   "source": [
    "## Plot multidimensional inequalities"
   ]
  },
  {
   "cell_type": "code",
   "execution_count": 7,
   "id": "cd40c882-9e87-403a-99ed-b0566aef3440",
   "metadata": {},
   "outputs": [
    {
     "data": {
      "image/png": "[encoded data removed]",
      "text/plain": [
       "<Figure size 820x410 with 8 Axes>"
      ]
     },
     "metadata": {},
     "output_type": "display_data"
    }
   ],
   "source": [
    "plt.close(\"all\")\n",
    "## Multidimensional empirical inequalities 1vRest\n",
    "n_rows = len(all_attributes_dict[\"grade\"])/2\n",
    "fig, axs = plt.subplots(int(n_rows)+1,2,figsize=(.82*10,.82*5), gridspec_kw={'height_ratios': [0.2]+[1]*(int(n_rows))})\n",
    "axs = axs.ravel()\n",
    "\n",
    "pos_bias = {\"Male\":-0.17, \"Female\":0.17}\n",
    "alpha_bias = {\"Male\":0.9, \"Female\":0.9}\n",
    "\n",
    "median_vals = {group: np.nanmean(vals) for group,vals in ineq_emp_multi_lst.items()}\n",
    "# norm = matplotlib.colors.Normalize(vmin=np.nanmin(list(median_vals.values())), vmax=np.nanmax(list(median_vals.values())))\n",
    "# cmap = matplotlib.colormaps['plasma']\n",
    "norm = matplotlib.colors.TwoSlopeNorm(0,vmin=np.nanmin(list(median_vals.values())), vmax=np.nanmax(list(median_vals.values())))\n",
    "cmap = matplotlib.colormaps['coolwarm']\n",
    "\n",
    "for gi, grade in enumerate(all_attributes_dict[\"grade\"]):\n",
    "    gi += 2\n",
    "    xtcks = []\n",
    "    plt.sca(axs[gi])\n",
    "    plt.ylim(-1,1)\n",
    "    for ri, race in enumerate(all_attributes_dict[\"race\"]):\n",
    "        ## Different color\n",
    "        # color = f\"C{ri}\"\n",
    "        for si, sex in enumerate(all_attributes_dict[\"sex\"]):\n",
    "            ## Darker or lighter color\n",
    "            \n",
    "            attr_tuple = (grade,race,sex)\n",
    "            vals = ineq_emp_multi_lst[attr_tuple]\n",
    "            vals = np.array(vals)\n",
    "            vals = vals[~np.isnan(vals)]\n",
    "\n",
    "            color = cmap(norm(np.mean(vals)))\n",
    "\n",
    "            p = axs[gi].violinplot(vals,positions=[ri+pos_bias[sex]],showmeans=False, showmedians=False, showextrema=False, vert=True, widths=0.25)\n",
    "            p[\"bodies\"][0].set_facecolor(color)\n",
    "            # p[\"bodies\"][0].set_edgecolor(\"k\")\n",
    "            # p[\"bodies\"][0].set_linewidth(0.5)\n",
    "            p[\"bodies\"][0].set_alpha(alpha_bias[sex])\n",
    "            axs[gi].boxplot(vals,positions=[ri+pos_bias[sex]],\n",
    "                        # notch=True,bootstrap=10000,\n",
    "                        sym = \"\", ## do not plot outliers,\n",
    "                        patch_artist=True,\n",
    "                        boxprops=dict(facecolor='black'),\n",
    "                        medianprops=dict(alpha=0),\n",
    "                        capprops=dict(alpha=0)\n",
    "                       )\n",
    "            axs[gi].plot(ri+pos_bias[sex],np.median(vals),\"ow\",ms=2)\n",
    "\n",
    "            xtcks.append(race + \" \" + sex[0])\n",
    "    axs[gi].axhline(0,color=\"grey\",ls=\"--\",zorder=0)\n",
    "    axs[gi].set_ylabel(grade)\n",
    "    if gi >= 2*n_rows:\n",
    "        xtcks_loc = axs[gi].get_xticks()\n",
    "        axs[gi].set_xticks(xtcks_loc, xtcks,rotation=45,ha=\"right\")\n",
    "    else:\n",
    "        axs[gi].set_xticks([], [])\n",
    "\n",
    "## Add colorbar\n",
    "axs[0].set_visible(False)\n",
    "fig.colorbar(matplotlib.cm.ScalarMappable(norm=norm, cmap=cmap),\n",
    "             cax=axs[1], orientation='horizontal',label=\"Mean\")\n",
    "# axs[1].xaxis.set_tick_params(top=True, labeltop=True, bottom=False, labelbottom=False)\n",
    "axs[1].xaxis.tick_top()\n",
    "axs[1].xaxis.set_label_position('top')\n",
    "axs[1].tick_params(axis='x', which='both', labelsize=8)\n",
    "\n",
    "plt.tight_layout()\n",
    "plt.subplots_adjust(hspace=0.3)\n",
    "\n",
    "plt.savefig(\"temp/Fig5_bottom.png\",dpi=600)\n",
    "plt.show()"
   ]
  },
  {
   "cell_type": "code",
   "execution_count": null,
   "id": "9344945f-b1ec-4683-88c6-784e3d607cdc",
   "metadata": {},
   "outputs": [],
   "source": []
  }
 ],
 "metadata": {
  "kernelspec": {
   "display_name": "Python 3 (ipykernel)",
   "language": "python",
   "name": "python3"
  },
  "language_info": {
   "codemirror_mode": {
    "name": "ipython",
    "version": 3
   },
   "file_extension": ".py",
   "mimetype": "text/x-python",
   "name": "python",
   "nbconvert_exporter": "python",
   "pygments_lexer": "ipython3",
   "version": "3.12.3"
  }
 },
 "nbformat": 4,
 "nbformat_minor": 5
}
