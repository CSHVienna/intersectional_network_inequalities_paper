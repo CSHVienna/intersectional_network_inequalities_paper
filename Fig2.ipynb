{
 "cells": [
  {
   "cell_type": "code",
   "execution_count": 1,
   "id": "4a85c476-0b06-4db2-b38b-18d6dfec9ed4",
   "metadata": {},
   "outputs": [],
   "source": [
    "import matplotlib.pyplot as plt\n",
    "import numpy as np\n",
    "import networkx as nx\n",
    "\n",
    "from multisoc.generate.two_dimensional_population import relative_correlation_inv\n",
    "from multisoc.generate.two_dimensional_population import relative_correlation\n",
    "from multisoc.generate.two_dimensional_population import consol_comp_pop_frac_tnsr\n",
    "\n",
    "from multisoc.generate.multidimensional_network import multidimensional_network_fix_av_degree\n",
    "\n",
    "from multisoc.generate.utils import G_attr_to_str"
   ]
  },
  {
   "cell_type": "markdown",
   "id": "8c78125e-4ca6-4499-b708-186ddd3a3f16",
   "metadata": {},
   "source": [
    "## Plot regions with different group size rankings"
   ]
  },
  {
   "cell_type": "code",
   "execution_count": 2,
   "id": "345b2c29-1780-495d-94b0-2abb841cfb25",
   "metadata": {},
   "outputs": [],
   "source": [
    "marginals_representatives= np.array([\n",
    "        [0.1, 0.35],\n",
    "        [0.23, 0.3],\n",
    "        [0.18, 0.45],\n",
    "        [0.25,0.42],\n",
    "        [0.35,0.43],\n",
    "    ])\n",
    "\n",
    "kappa_values = np.array([\n",
    "    [relative_correlation_inv(0.35,-0.5),.35,relative_correlation_inv(0.35,0.5)],\n",
    "    [relative_correlation_inv(0.3,-0.5),.3,relative_correlation_inv(0.3,0.7),],\n",
    "    [relative_correlation_inv(0.45,-0.7),.45,relative_correlation_inv(0.45,0.5)],\n",
    "    [relative_correlation_inv(0.42,-0.7),.42,relative_correlation_inv(0.42,0.8)],\n",
    "    [relative_correlation_inv(0.43,-0.7),.43,relative_correlation_inv(0.43,0.65)]\n",
    "])\n",
    "\n",
    "## Approx. same values as these\n",
    "# kappa_values = np.array([\n",
    "#     [.175,.35,.7],\n",
    "#     [.15,.3,.8],\n",
    "#     [.135,.45,.72],\n",
    "#     [.126,.42,.9],\n",
    "#     [.129,.43,.8]\n",
    "# ])"
   ]
  },
  {
   "cell_type": "code",
   "execution_count": 4,
   "id": "44110a1d-ac4d-498e-9d18-ba43f3374b8f",
   "metadata": {},
   "outputs": [
    {
     "data": {
      "image/png": "[encoded data removed]",
      "text/plain": [
       "<Figure size 300x300 with 1 Axes>"
      ]
     },
     "metadata": {},
     "output_type": "display_data"
    }
   ],
   "source": [
    "plt.figure(figsize=(3,3))\n",
    "\n",
    "f1 = np.linspace(0,0.5,1000)\n",
    "f2_a = 2*f1\n",
    "f2_b = 0.5*(1-f1)\n",
    "f2_c = 1-2*f1\n",
    "\n",
    "plt.plot(f1,f1,label=r\"$f^2_m=f^1_m$\")\n",
    "plt.plot(f1[f2_a>f1],f2_a[f2_a>f1],\"--\",label=r\"$f^2_m=2 f^1_m$\")\n",
    "plt.plot(f1[f2_b>f1],f2_b[f2_b>f1],\"-.\",label=r\"$f^2_m=\\frac{1}{2}(1-f^1_m)$\")\n",
    "plt.plot(f1[f2_c>f1],f2_c[f2_c>f1],\":\",label=r\"$f^2_m=1-2 f^1_m$\")\n",
    "\n",
    "plt.ylim(0,0.5)\n",
    "plt.xlim(0,0.5)\n",
    "\n",
    "plt.xlabel(r\"$f^1_m$\")\n",
    "plt.ylabel(r\"$f^2_m$\")\n",
    "plt.legend(bbox_to_anchor=(0.1,1.1, .7, 0.1),ncol=2,frameon=False)\n",
    "\n",
    "plt.plot(marginals_representatives[:,0],marginals_representatives[:,1],\"ok\",ms=5)\n",
    "\n",
    "plt.tight_layout()\n",
    "\n",
    "plt.savefig(f\"temp/Fig2_left.png\",dpi=600,)\n",
    "\n",
    "plt.show()"
   ]
  },
  {
   "cell_type": "markdown",
   "id": "d235f40b-f04e-4f13-8375-5179d468227a",
   "metadata": {},
   "source": [
    "## Generate networks\n",
    "The networks are saved in gexf format and opened with gephi (https://gephi.org/) for graphical representation."
   ]
  },
  {
   "cell_type": "code",
   "execution_count": 5,
   "id": "4d63b5d9-63bc-4860-86e4-b249f3e01622",
   "metadata": {},
   "outputs": [
    {
     "name": "stdout",
     "output_type": "stream",
     "text": [
      "--------------------------------- 0.1 0.35\n",
      "0.175\n",
      "0.35\n",
      "0.675\n",
      "--------------------------------- 0.23 0.3\n",
      "0.15\n",
      "0.3\n",
      "0.7899999999999999\n",
      "--------------------------------- 0.18 0.45\n",
      "0.135\n",
      "0.45\n",
      "0.7250000000000001\n",
      "--------------------------------- 0.25 0.42\n",
      "0.126\n",
      "0.42\n",
      "0.8840000000000001\n",
      "--------------------------------- 0.35 0.43\n",
      "0.129\n",
      "0.43\n",
      "0.8005\n"
     ]
    }
   ],
   "source": [
    "N = 2000\n",
    "kind = \"all\"\n",
    "p_d = [0.5, 0.5]\n",
    "\n",
    "for i, (f1m,f2m) in enumerate(marginals_representatives):\n",
    "    print (\"---------------------------------\",f1m, f2m)\n",
    "    h_mtrx_lst = [ np.array([[0.85,0.15],[0.15,0.85]]), np.array([[0.85,0.15],[0.15,0.85]]) ] ## List of 1d homophily matrices\n",
    "    pop_fracs_lst = [[f1m,1-f1m],[f2m,1-f2m]] ## The marginals of the population distribution defined by comp_pop_frac_tnsr\n",
    "    for consol in kappa_values[i]:\n",
    "        print (consol)\n",
    "        comp_pop_frac_tnsr = consol_comp_pop_frac_tnsr(pop_fracs_lst,consol)\n",
    "        \n",
    "        G = multidimensional_network_fix_av_degree(\n",
    "                        h_mtrx_lst,\n",
    "                        comp_pop_frac_tnsr,\n",
    "                        kind,\n",
    "                        directed=True,\n",
    "                        pop_fracs_lst = pop_fracs_lst,\n",
    "                        N=N,\n",
    "                        m=10,\n",
    "                        v = 0,\n",
    "                        p_d = p_d\n",
    "                        )\n",
    "    \n",
    "        G_out = G_attr_to_str(G,\"attr\") ## Needed to conver tuple attributes to string to avoid errors with gexf format\n",
    "        nx.write_gexf(G_out,f\"./temp/network_2D_all_f1m{f1m}_f2m{f2m}_k{consol}.gexf\")"
   ]
  },
  {
   "cell_type": "code",
   "execution_count": null,
   "id": "89779a45-7a3d-4793-a5f4-c7cb7ffb7987",
   "metadata": {},
   "outputs": [],
   "source": []
  }
 ],
 "metadata": {
  "kernelspec": {
   "display_name": "Python 3 (ipykernel)",
   "language": "python",
   "name": "python3"
  },
  "language_info": {
   "codemirror_mode": {
    "name": "ipython",
    "version": 3
   },
   "file_extension": ".py",
   "mimetype": "text/x-python",
   "name": "python",
   "nbconvert_exporter": "python",
   "pygments_lexer": "ipython3",
   "version": "3.12.7"
  }
 },
 "nbformat": 4,
 "nbformat_minor": 5
}
